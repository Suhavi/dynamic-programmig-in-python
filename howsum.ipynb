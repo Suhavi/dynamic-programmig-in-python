{
 "cells": [
  {
   "cell_type": "markdown",
   "metadata": {},
   "source": [
    "HOWSUM"
   ]
  },
  {
   "cell_type": "code",
   "execution_count": 73,
   "metadata": {},
   "outputs": [],
   "source": [
    "def howsum(target, numbers):\n",
    "    if target ==0:\n",
    "        return []\n",
    "    if target <0:\n",
    "        return None\n",
    "    for num in numbers:   # every num it hits, it processes from bottom up, it doesn't hit multiple nums at once\n",
    "        remainder = target - num\n",
    "        result = howsum(remainder, numbers)\n",
    "        if result != None:\n",
    "            l = [x for x in result] # the result for every branch carries the branch\n",
    "            l.append(num)  # add the new branch  \n",
    "            return l\n",
    "    \n",
    "    return None\n"
   ]
  },
  {
   "cell_type": "code",
   "execution_count": 74,
   "metadata": {},
   "outputs": [
    {
     "name": "stdout",
     "output_type": "stream",
     "text": [
      "[]\n",
      "[3, 2]\n",
      "[2, 4, 4]\n"
     ]
    }
   ],
   "source": [
    "testcases = [(0,[2,5,6]),(5,[2,3]), (10,[4,3,2,5])]\n",
    "for test in testcases:\n",
    "    print(howsum(test[0],test[1]))"
   ]
  },
  {
   "cell_type": "code",
   "execution_count": 85,
   "metadata": {},
   "outputs": [],
   "source": [
    "# memoised\n",
    "\n",
    "memo = {}\n",
    "def howsum_memo(target, numbers):\n",
    "    if target in memo:\n",
    "        return memo[target]\n",
    "    if target == 0:\n",
    "        return []\n",
    "    if target < 0:\n",
    "        return None\n",
    "    \n",
    "    for num in numbers:\n",
    "        remainder = target - num\n",
    "        result = howsum(remainder, numbers)\n",
    "        if result != None:\n",
    "            l = [x for x in result]\n",
    "            l.append(num)\n",
    "            memo[target] = l\n",
    "            return memo[target]\n",
    "        \n",
    "    if target not in memo:\n",
    "        return None\n",
    "\n",
    "    \n",
    "        "
   ]
  },
  {
   "cell_type": "code",
   "execution_count": 87,
   "metadata": {},
   "outputs": [
    {
     "name": "stdout",
     "output_type": "stream",
     "text": [
      "[3, 2]\n",
      "[2, 4, 4]\n"
     ]
    }
   ],
   "source": [
    "testcases = [(1,[2,5,6]),(5,[2,3]), (10,[4,3,2,5])]\n",
    "for test in testcases:\n",
    "    print(howsum_memo(test[0],test[1]))"
   ]
  }
 ],
 "metadata": {
  "kernelspec": {
   "display_name": "base",
   "language": "python",
   "name": "python3"
  },
  "language_info": {
   "codemirror_mode": {
    "name": "ipython",
    "version": 3
   },
   "file_extension": ".py",
   "mimetype": "text/x-python",
   "name": "python",
   "nbconvert_exporter": "python",
   "pygments_lexer": "ipython3",
   "version": "3.9.12"
  }
 },
 "nbformat": 4,
 "nbformat_minor": 2
}
