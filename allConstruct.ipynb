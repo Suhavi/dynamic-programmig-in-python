{
 "cells": [
  {
   "cell_type": "markdown",
   "metadata": {},
   "source": [
    "ALLCONSTRUCT"
   ]
  },
  {
   "cell_type": "code",
   "execution_count": 15,
   "metadata": {},
   "outputs": [],
   "source": [
    "def allConstruct(target, wordbank):\n",
    "    if target == \"\":\n",
    "        return [[]]\n",
    "\n",
    "    result = []\n",
    "    for word in wordbank:\n",
    "        if word == target[0:len(word)]:\n",
    "            suffixways = allConstruct(target[len(word):],wordbank) #all ways to build the suffix - 2d array\n",
    "            targetways = suffixways.copy()\n",
    "            for way in targetways:\n",
    "                way.append(word)\n",
    "            result.extend(targetways)\n",
    "            \n",
    "    return result"
   ]
  },
  {
   "cell_type": "code",
   "execution_count": 16,
   "metadata": {},
   "outputs": [
    {
     "name": "stdout",
     "output_type": "stream",
     "text": [
      "[[]]\n",
      "[['vi', 'a', 'suh'], ['avi', 'suh']]\n",
      "[['mic', 'a', 'dyn']]\n",
      "[['def', 'abc']]\n",
      "[]\n"
     ]
    }
   ],
   "source": [
    "testcases = [(\"\",[\"a\",\"b\",\"sc\"]), (\"suhavi\",[\"su\",\"suh\",\"vi\", \"a\", \"avi\"]), (\"dynamic\",[\"dyn\",\"a\",\"mic\"]), (\"abcdef\", [\"ab\",\"abc\",\"cd\",\"def\", \"abcd\"]), (\"aaaaaaaaaaaaaah\", [\"a\",\"aa\",\"aaa\",\"aaa\", \"aaaa\"]) ]\n",
    "# testcases = [(\"suhavi\",[\"su\",\"suh\",\"vi\", \"a\", \"avi\"])]\n",
    "for test in testcases:\n",
    "    print(allConstruct(test[0], test[1]))"
   ]
  }
 ],
 "metadata": {
  "kernelspec": {
   "display_name": "base",
   "language": "python",
   "name": "python3"
  },
  "language_info": {
   "codemirror_mode": {
    "name": "ipython",
    "version": 3
   },
   "file_extension": ".py",
   "mimetype": "text/x-python",
   "name": "python",
   "nbconvert_exporter": "python",
   "pygments_lexer": "ipython3",
   "version": "3.9.12"
  }
 },
 "nbformat": 4,
 "nbformat_minor": 2
}
