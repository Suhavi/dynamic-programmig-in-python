{
 "cells": [
  {
   "cell_type": "markdown",
   "metadata": {},
   "source": [
    "ALLCONSTRUCT"
   ]
  },
  {
   "cell_type": "code",
   "execution_count": 15,
   "metadata": {},
   "outputs": [],
   "source": [
    "def allConstruct(target, wordbank):\n",
    "    if target == \"\":\n",
    "        return [[]]\n",
    "\n",
    "    result = []\n",
    "    for word in wordbank:\n",
    "        if word == target[0:len(word)]:\n",
    "            suffixways = allConstruct(target[len(word):],wordbank) #all ways to build the suffix - 2d array\n",
    "            targetways = suffixways.copy()\n",
    "            for way in targetways:\n",
    "                way.append(word)\n",
    "            result.extend(targetways)\n",
    "            \n",
    "    return result"
   ]
  },
  {
   "cell_type": "code",
   "execution_count": 16,
   "metadata": {},
   "outputs": [
    {
     "name": "stdout",
     "output_type": "stream",
     "text": [
      "[[]]\n",
      "[['vi', 'a', 'suh'], ['avi', 'suh']]\n",
      "[['mic', 'a', 'dyn']]\n",
      "[['def', 'abc']]\n",
      "[]\n"
     ]
    }
   ],
   "source": [
    "testcases = [(\"\",[\"a\",\"b\",\"sc\"]), (\"suhavi\",[\"su\",\"suh\",\"vi\", \"a\", \"avi\"]), (\"dynamic\",[\"dyn\",\"a\",\"mic\"]), (\"abcdef\", [\"ab\",\"abc\",\"cd\",\"def\", \"abcd\"]), (\"aaaaaaaaaaaaaah\", [\"a\",\"aa\",\"aaa\",\"aaa\", \"aaaa\"]) ]\n",
    "# testcases = [(\"suhavi\",[\"su\",\"suh\",\"vi\", \"a\", \"avi\"])]\n",
    "for test in testcases:\n",
    "    print(allConstruct(test[0], test[1]))"
   ]
  },
  {
   "cell_type": "markdown",
   "metadata": {},
   "source": [
    "TABULATION"
   ]
  },
  {
   "cell_type": "code",
   "execution_count": 6,
   "metadata": {},
   "outputs": [],
   "source": [
    "def allconstruct_table(target, wordbank):\n",
    "    table = [[] for j in range(len(target)+1)]\n",
    "    table[0] = [[]]\n",
    "\n",
    "    for i in range(len(target)+1):\n",
    "        if len(table[i]) == 0:\n",
    "            continue\n",
    "        for word in wordbank:\n",
    "            newword = target[:i] + word\n",
    "            if newword == target[:len(newword)]:\n",
    "                new_combinations = [arr + [word] for arr in table[i]]    # the new word gets added to all ways the previous thing can be made and then added to the new place\n",
    "                table[len(newword)].extend(new_combinations)\n",
    "\n",
    "    return table[len(target)]\n"
   ]
  },
  {
   "cell_type": "code",
   "execution_count": 8,
   "metadata": {},
   "outputs": [
    {
     "name": "stdout",
     "output_type": "stream",
     "text": [
      "[['abc', 'def'], ['ab', 'c', 'def'], ['abcd', 'ef'], ['ab', 'cd', 'ef']]\n",
      "[[]]\n",
      "[['suh', 'avi'], ['suh', 'a', 'vi']]\n",
      "[['dyn', 'a', 'mic']]\n",
      "[['abc', 'def']]\n",
      "[]\n"
     ]
    }
   ],
   "source": [
    "testcases = [(\"abcdef\",[\"ab\",\"abc\", \"cd\", \"def\", \"abcd\", \"ef\", \"c\"]),(\"\",[\"a\",\"b\",\"sc\"]), (\"suhavi\",[\"su\",\"suh\",\"vi\", \"a\", \"avi\"]), (\"dynamic\",[\"dyn\",\"a\",\"mic\"]), (\"abcdef\", [\"ab\",\"abc\",\"cd\",\"def\", \"abcd\"]), (\"aaaaaaaaaaaaaah\", [\"a\",\"aa\",\"aaa\",\"aaa\", \"aaaa\"]) ]\n",
    "# testcases = [(\"suhavi\",[\"su\",\"suh\",\"vi\", \"a\", \"avi\"])]\n",
    "for test in testcases:\n",
    "    print(allconstruct_table(test[0], test[1]))"
   ]
  },
  {
   "cell_type": "code",
   "execution_count": null,
   "metadata": {},
   "outputs": [],
   "source": []
  }
 ],
 "metadata": {
  "kernelspec": {
   "display_name": "base",
   "language": "python",
   "name": "python3"
  },
  "language_info": {
   "codemirror_mode": {
    "name": "ipython",
    "version": 3
   },
   "file_extension": ".py",
   "mimetype": "text/x-python",
   "name": "python",
   "nbconvert_exporter": "python",
   "pygments_lexer": "ipython3",
   "version": "3.9.12"
  }
 },
 "nbformat": 4,
 "nbformat_minor": 2
}
