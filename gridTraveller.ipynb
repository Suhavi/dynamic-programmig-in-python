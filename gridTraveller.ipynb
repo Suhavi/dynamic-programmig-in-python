{
 "cells": [
  {
   "cell_type": "markdown",
   "metadata": {},
   "source": [
    "GRIDTRAVELLER"
   ]
  },
  {
   "cell_type": "code",
   "execution_count": 1,
   "metadata": {},
   "outputs": [],
   "source": [
    "def gridTraveller(n,m):\n",
    "    if n ==1 and m==1:\n",
    "        return 1\n",
    "    if n==0 or m==0:\n",
    "        return 0\n",
    "    return gridTraveller(n-1,m)+ gridTraveller(n,m-1)"
   ]
  },
  {
   "cell_type": "code",
   "execution_count": 2,
   "metadata": {},
   "outputs": [
    {
     "name": "stdout",
     "output_type": "stream",
     "text": [
      "(1, 1) 1\n",
      "(2, 2) 2\n",
      "(4, 5) 35\n"
     ]
    }
   ],
   "source": [
    "testcases = [(1,1), (2,2), (4,5)]\n",
    "for test in testcases:\n",
    "    print (test, gridTraveller(test[0],test[1]))"
   ]
  },
  {
   "cell_type": "code",
   "execution_count": 69,
   "metadata": {},
   "outputs": [],
   "source": [
    "memo = {}\n",
    "def gridTraveller_memo(n,m):\n",
    "    if n ==1 and m==1:\n",
    "        return 1\n",
    "    if n==0 or m==0:\n",
    "        return 0\n",
    "    key = str(n)+\",\"+str(m)\n",
    "    if key in memo:\n",
    "        return memo[key]\n",
    "    else:\n",
    "        memo[key] = gridTraveller_memo(n-1,m) + gridTraveller_memo(n,m-1)\n",
    "\n",
    "    return memo[key]"
   ]
  },
  {
   "cell_type": "code",
   "execution_count": 70,
   "metadata": {},
   "outputs": [
    {
     "name": "stdout",
     "output_type": "stream",
     "text": [
      "(1, 1) 1\n",
      "(2, 2) 2\n",
      "(4, 5) 35\n"
     ]
    }
   ],
   "source": [
    "testcases = [(1,1), (2,2), (4,5)]\n",
    "for test in testcases:\n",
    "    print (test, gridTraveller_memo(test[0],test[1]))"
   ]
  },
  {
   "cell_type": "markdown",
   "metadata": {},
   "source": [
    "TABULATION"
   ]
  },
  {
   "cell_type": "code",
   "execution_count": 63,
   "metadata": {},
   "outputs": [],
   "source": [
    "def grid_travel_table(n,m):\n",
    "    # table = [[0]*(m+1)]*(n+1)  ## incorrect in python because each row is refercing to the same list\n",
    "\n",
    "    table = [[0]*(m+1) for k in range(n+1)]\n",
    "    if n == 0 or m == 0:\n",
    "        return 0\n",
    "    table[1][1] = 1\n",
    "    for i in range(n+1):\n",
    "        for j in range(m+1):\n",
    "            # current = table[i][j].copy()\n",
    "            # print(i,j,current)\n",
    "            if i+1 <= n:\n",
    "                table[i+1][j] = table[i+1][j]+ table[i][j]\n",
    "            if j+1 <= m:\n",
    "                table[i][j+1] = table[i][j+1]+ table[i][j]\n",
    " \n",
    "    return table[n][m]"
   ]
  },
  {
   "cell_type": "code",
   "execution_count": 66,
   "metadata": {},
   "outputs": [
    {
     "name": "stdout",
     "output_type": "stream",
     "text": [
      "(0, 2) 0\n",
      "(0, 1) 0\n",
      "(1, 1) 1\n",
      "(2, 2) 2\n",
      "(3, 3) 6\n",
      "(5, 4) 35\n"
     ]
    }
   ],
   "source": [
    "testcases = [(0,2), (0,1),(1,1), (2,2), (3,3), (5,4)]\n",
    "for test in testcases:\n",
    "    print (test, grid_travel_table(test[0],test[1]))"
   ]
  }
 ],
 "metadata": {
  "kernelspec": {
   "display_name": "base",
   "language": "python",
   "name": "python3"
  },
  "language_info": {
   "codemirror_mode": {
    "name": "ipython",
    "version": 3
   },
   "file_extension": ".py",
   "mimetype": "text/x-python",
   "name": "python",
   "nbconvert_exporter": "python",
   "pygments_lexer": "ipython3",
   "version": "3.9.12"
  }
 },
 "nbformat": 4,
 "nbformat_minor": 2
}
