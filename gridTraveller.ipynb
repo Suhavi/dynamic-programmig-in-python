{
 "cells": [
  {
   "cell_type": "markdown",
   "metadata": {},
   "source": [
    "GRIDTRAVELLER"
   ]
  },
  {
   "cell_type": "code",
   "execution_count": 1,
   "metadata": {},
   "outputs": [],
   "source": [
    "def gridTraveller(n,m):\n",
    "    if n ==1 and m==1:\n",
    "        return 1\n",
    "    if n==0 or m==0:\n",
    "        return 0\n",
    "    return gridTraveller(n-1,m)+ gridTraveller(n,m-1)"
   ]
  },
  {
   "cell_type": "code",
   "execution_count": 2,
   "metadata": {},
   "outputs": [
    {
     "name": "stdout",
     "output_type": "stream",
     "text": [
      "(1, 1) 1\n",
      "(2, 2) 2\n",
      "(4, 5) 35\n"
     ]
    }
   ],
   "source": [
    "testcases = [(1,1), (2,2), (4,5)]\n",
    "for test in testcases:\n",
    "    print (test, gridTraveller(test[0],test[1]))"
   ]
  },
  {
   "cell_type": "code",
   "execution_count": 5,
   "metadata": {},
   "outputs": [],
   "source": [
    "memo = {}\n",
    "def gridTraveller_memo(n,m):\n",
    "    if n ==1 and m==1:\n",
    "        return 1\n",
    "    if n==0 or m==0:\n",
    "        return 1\n",
    "    key = str(n)+\",\"+str(m)\n",
    "    if key in memo:\n",
    "        return memo[key]\n",
    "    else:\n",
    "        memo[key] = gridTraveller_memo(n-1,m) + gridTraveller_memo(n,m-1)\n",
    "\n",
    "    return memo[key]"
   ]
  },
  {
   "cell_type": "code",
   "execution_count": 8,
   "metadata": {},
   "outputs": [
    {
     "name": "stdout",
     "output_type": "stream",
     "text": [
      "(1, 1) 1\n",
      "(2, 2) 4\n",
      "(4, 5) 91\n"
     ]
    }
   ],
   "source": [
    "testcases = [(1,1), (2,2), (4,5)]\n",
    "for test in testcases:\n",
    "    print (test, gridTraveller_memo(test[0],test[1]))"
   ]
  }
 ],
 "metadata": {
  "kernelspec": {
   "display_name": "base",
   "language": "python",
   "name": "python3"
  },
  "language_info": {
   "codemirror_mode": {
    "name": "ipython",
    "version": 3
   },
   "file_extension": ".py",
   "mimetype": "text/x-python",
   "name": "python",
   "nbconvert_exporter": "python",
   "pygments_lexer": "ipython3",
   "version": "3.9.12"
  }
 },
 "nbformat": 4,
 "nbformat_minor": 2
}
