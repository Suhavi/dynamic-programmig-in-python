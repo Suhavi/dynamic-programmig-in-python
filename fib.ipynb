{
 "cells": [
  {
   "cell_type": "markdown",
   "metadata": {},
   "source": [
    "FIBONACCI SEQUENCE"
   ]
  },
  {
   "cell_type": "code",
   "execution_count": 4,
   "metadata": {},
   "outputs": [],
   "source": [
    "#recursive\n",
    "\n",
    "def fib(n):\n",
    "    if n == 0:\n",
    "        return 1\n",
    "    if n == 1:\n",
    "        return 1\n",
    "    else:\n",
    "        return fib(n-1) + fib(n-2)"
   ]
  },
  {
   "cell_type": "code",
   "execution_count": 8,
   "metadata": {},
   "outputs": [
    {
     "name": "stdout",
     "output_type": "stream",
     "text": [
      "2 3.0994415283203125e-06\n",
      "3 3.814697265625e-06\n",
      "5 1.9073486328125e-06\n",
      "8 3.0994415283203125e-06\n",
      "13 4.291534423828125e-06\n",
      "89 2.6226043701171875e-05\n",
      "1346269 0.371945858001709\n"
     ]
    }
   ],
   "source": [
    "import time\n",
    "testcases = [2,3,4,5,6,10,30]\n",
    "for test in testcases:\n",
    "    start=time.time()\n",
    "    print (fib(test), time.time()-start)\n",
    "    "
   ]
  },
  {
   "cell_type": "code",
   "execution_count": 9,
   "metadata": {},
   "outputs": [],
   "source": [
    "# memoized\n",
    "\n",
    "memo = {}\n",
    "def fib_memo(n):\n",
    "    memo.update({0:1})\n",
    "    memo.update({1:1})\n",
    "    if n in memo:\n",
    "        return memo[n]\n",
    "    else:\n",
    "        memo[n] = fib(n-1) + fib(n-2)\n",
    "    return memo[n]"
   ]
  },
  {
   "cell_type": "code",
   "execution_count": 16,
   "metadata": {},
   "outputs": [
    {
     "name": "stdout",
     "output_type": "stream",
     "text": [
      "2 1.6689300537109375e-06\n",
      "3 2.1457672119140625e-06\n",
      "5 2.1457672119140625e-06\n",
      "8 1.1920928955078125e-06\n",
      "13 1.1920928955078125e-06\n",
      "89 7.152557373046875e-07\n",
      "1346269 9.5367431640625e-07\n"
     ]
    }
   ],
   "source": [
    "import time\n",
    "testcases = [2,3,4,5,6,10,30]\n",
    "for test in testcases:\n",
    "    start=time.time()\n",
    "    print (fib_memo(test), time.time()-start)"
   ]
  }
 ],
 "metadata": {
  "kernelspec": {
   "display_name": "base",
   "language": "python",
   "name": "python3"
  },
  "language_info": {
   "codemirror_mode": {
    "name": "ipython",
    "version": 3
   },
   "file_extension": ".py",
   "mimetype": "text/x-python",
   "name": "python",
   "nbconvert_exporter": "python",
   "pygments_lexer": "ipython3",
   "version": "3.9.12"
  }
 },
 "nbformat": 4,
 "nbformat_minor": 2
}
