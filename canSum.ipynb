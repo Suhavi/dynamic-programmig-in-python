{
 "cells": [
  {
   "cell_type": "markdown",
   "metadata": {},
   "source": [
    "CANSUM"
   ]
  },
  {
   "cell_type": "code",
   "execution_count": 30,
   "metadata": {},
   "outputs": [],
   "source": [
    "def cansum(target, arr):\n",
    "    if target == 0:\n",
    "        return True\n",
    "    if target <0:\n",
    "        return False\n",
    "    for num in arr:\n",
    "        if num > target: #new additions, save runtime\n",
    "            continue\n",
    "        remainder = target - num\n",
    "        # return cansum(remainder,arr) # does not work because the loop will exit with every False, but we want the final result only\n",
    "        if (cansum(remainder,arr)):\n",
    "            return True\n",
    "        \n",
    "    return False\n",
    "    "
   ]
  },
  {
   "cell_type": "code",
   "execution_count": 31,
   "metadata": {},
   "outputs": [
    {
     "name": "stdout",
     "output_type": "stream",
     "text": [
      "False\n",
      "True\n",
      "True\n"
     ]
    }
   ],
   "source": [
    "testcases = [(1,[2,5,6]),(5,[2,3]), (6,[4,3,2])]\n",
    "for test in testcases:\n",
    "    print(cansum(test[0],test[1]))"
   ]
  },
  {
   "cell_type": "code",
   "execution_count": 34,
   "metadata": {},
   "outputs": [],
   "source": [
    "# memoised\n",
    "\n",
    "memo = {}\n",
    "def cansum_memo(target, arr):\n",
    "\tif target < 0:\n",
    "\t\treturn False\n",
    "\tif target == 0:\n",
    "\t\treturn True\n",
    "\tif target in memo:\n",
    "\t\treturn memo[target]\n",
    "\t\n",
    "\tfor num in arr:\n",
    "\t\tif num > target:\n",
    "\t\t\tcontinue\n",
    "\t\tremainder = target - num\n",
    "\t\tif cansum_memo(remainder,arr):\n",
    "\t\t\tmemo[target] = True\n",
    "\n",
    "\tif target not in memo:\n",
    "\t\tmemo[target] = False\n",
    "\n",
    "\t# print(memo)\n",
    "\n",
    "\treturn memo[target]  "
   ]
  },
  {
   "cell_type": "code",
   "execution_count": 35,
   "metadata": {},
   "outputs": [
    {
     "name": "stdout",
     "output_type": "stream",
     "text": [
      "False\n",
      "True\n",
      "True\n"
     ]
    }
   ],
   "source": [
    "testcases = [(1,[2,5,6]),(5,[2,3]), (6,[4,3,2])]\n",
    "for test in testcases:\n",
    "    print(cansum_memo(test[0],test[1]))"
   ]
  },
  {
   "cell_type": "markdown",
   "metadata": {},
   "source": [
    "TABULATION"
   ]
  },
  {
   "cell_type": "code",
   "execution_count": 6,
   "metadata": {},
   "outputs": [],
   "source": [
    "def canSum_tab(target, numbers):\n",
    "    table = [False] * (target+1)\n",
    "    table[0] = True\n",
    "    for i in range(len(table)):\n",
    "        if table[i] == True:\n",
    "            for num in numbers:\n",
    "                new_ind = i + num\n",
    "                if new_ind < len(table):\n",
    "                    table[new_ind] = True\n",
    "    return table[target]"
   ]
  },
  {
   "cell_type": "code",
   "execution_count": 7,
   "metadata": {},
   "outputs": [
    {
     "name": "stdout",
     "output_type": "stream",
     "text": [
      "False\n",
      "True\n",
      "True\n"
     ]
    }
   ],
   "source": [
    "testcases = [(1,[2,5,6]),(5,[2,3]), (6,[4,3,2])]\n",
    "for test in testcases:\n",
    "    print(canSum_tab(test[0],test[1]))"
   ]
  }
 ],
 "metadata": {
  "kernelspec": {
   "display_name": "base",
   "language": "python",
   "name": "python3"
  },
  "language_info": {
   "codemirror_mode": {
    "name": "ipython",
    "version": 3
   },
   "file_extension": ".py",
   "mimetype": "text/x-python",
   "name": "python",
   "nbconvert_exporter": "python",
   "pygments_lexer": "ipython3",
   "version": "3.9.12"
  }
 },
 "nbformat": 4,
 "nbformat_minor": 2
}
