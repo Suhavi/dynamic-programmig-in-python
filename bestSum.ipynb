{
 "cells": [
  {
   "cell_type": "markdown",
   "metadata": {},
   "source": [
    "BESTSUM"
   ]
  },
  {
   "cell_type": "code",
   "execution_count": 44,
   "metadata": {},
   "outputs": [],
   "source": [
    "def bestSum(target, numbers):\n",
    "    if target == 0:\n",
    "        return []\n",
    "    if target < 0:\n",
    "        return None\n",
    "    \n",
    "    solution = None\n",
    "    \n",
    "    for num in numbers:\n",
    "        newtarget = target-num\n",
    "        result = bestSum(newtarget, numbers)\n",
    "        if result != None:\n",
    "            l = [x for x in result]\n",
    "            l.append(num)\n",
    "            if solution == None or len(solution) > len(l):\n",
    "                solution = l\n",
    "  \n",
    "    return solution"
   ]
  },
  {
   "cell_type": "code",
   "execution_count": 51,
   "metadata": {},
   "outputs": [
    {
     "name": "stdout",
     "output_type": "stream",
     "text": [
      "[]\n",
      "None\n",
      "[1, 4]\n",
      "[7]\n"
     ]
    }
   ],
   "source": [
    "testcases = [(0,[1,2,3]), (1,[2,3,4]),(5,[4,3,7,8,1]), (7,[3,4,6,7,9])]\n",
    "\n",
    "for test in testcases:\n",
    "    print(bestSum(test[0], test[1]))"
   ]
  },
  {
   "cell_type": "code",
   "execution_count": 48,
   "metadata": {},
   "outputs": [],
   "source": [
    "# memo\n",
    "\n",
    "memo = {}\n",
    "def bestSum_memo(target, numbers):\n",
    "    if target == 0:\n",
    "        return []\n",
    "    if target < 0:\n",
    "        return None\n",
    "    \n",
    "    if target in memo:\n",
    "        return memo[target]\n",
    "    \n",
    "    solution = None\n",
    "    for num in numbers:\n",
    "        remainder = target - num\n",
    "        result = bestSum(remainder, numbers)\n",
    "        if result != None:\n",
    "            l = [x for x in result]\n",
    "            l.append(num)\n",
    "            if solution == None or len(solution) > len(l):\n",
    "                solution = l\n",
    "    \n",
    "    memo[target] = solution\n",
    "    return memo[target]"
   ]
  },
  {
   "cell_type": "code",
   "execution_count": 50,
   "metadata": {},
   "outputs": [
    {
     "name": "stdout",
     "output_type": "stream",
     "text": [
      "[]\n",
      "None\n",
      "[1, 4]\n",
      "[7]\n"
     ]
    }
   ],
   "source": [
    "testcases = [(0,[1,2,3]), (1,[2,3,4]),(5,[4,3,7,8,1]), (7,[3,4,6,7,9])]\n",
    "\n",
    "for test in testcases:\n",
    "    print(bestSum_memo(test[0], test[1]))"
   ]
  },
  {
   "cell_type": "markdown",
   "metadata": {},
   "source": [
    "TABULATION"
   ]
  },
  {
   "cell_type": "code",
   "execution_count": 10,
   "metadata": {},
   "outputs": [],
   "source": [
    "def bestSum_tab(target, numbers):\n",
    "    table = [None]*(target+1)\n",
    "    table[0] = []\n",
    "\n",
    "    for i in range(target+1):\n",
    "        if table[i] != None:\n",
    "            for num in numbers:\n",
    "                newind = i + num\n",
    "                if newind > target:\n",
    "                    continue\n",
    "                if table[newind] == None:\n",
    "                    #lengthy code\n",
    "                    # table[newind] = table[i].copy()\n",
    "                    # table[newind].append(num)\n",
    "                    # improved version\n",
    "                    table[newind] = table[i][:] + [num]\n",
    "                else:\n",
    "                    newsum = table[i][:] + [num]\n",
    "                    if len(newsum) < len(table[newind]):\n",
    "                        table[newind] = newsum\n",
    "\n",
    "    return table[target]\n",
    "                    \n"
   ]
  },
  {
   "cell_type": "code",
   "execution_count": 11,
   "metadata": {},
   "outputs": [
    {
     "name": "stdout",
     "output_type": "stream",
     "text": [
      "[]\n",
      "None\n",
      "[1, 4]\n",
      "[7]\n",
      "[3, 5]\n"
     ]
    }
   ],
   "source": [
    "testcases = [(0,[1,2,3]), (1,[2,3,4]),(5,[4,3,7,8,1]), (7,[3,4,6,7,9]), (8,[2,3,5])]\n",
    "\n",
    "for test in testcases:\n",
    "    print(bestSum_tab(test[0], test[1]))"
   ]
  },
  {
   "cell_type": "code",
   "execution_count": 16,
   "metadata": {},
   "outputs": [],
   "source": [
    "# SHORTER AD CRISPER CODE\n",
    "\n",
    "def bestsum(target, numbers):\n",
    "    table = [None]*(target+1)\n",
    "    table[0] = []\n",
    "\n",
    "    for i in range(target+1):\n",
    "        if table[i] == None:\n",
    "            continue\n",
    "        for num in numbers:\n",
    "            newind = i+num\n",
    "            if newind > target:\n",
    "                continue\n",
    "            if table[newind] == None or (len(table[i][:]+[num]) < len(table[newind])):\n",
    "                table[newind] = table[i][:]+[num]\n",
    "\n",
    "    return table[target]"
   ]
  },
  {
   "cell_type": "code",
   "execution_count": 17,
   "metadata": {},
   "outputs": [
    {
     "name": "stdout",
     "output_type": "stream",
     "text": [
      "[]\n",
      "None\n",
      "[1, 4]\n",
      "[7]\n",
      "[3, 5]\n"
     ]
    }
   ],
   "source": [
    "testcases = [(0,[1,2,3]), (1,[2,3,4]),(5,[4,3,7,8,1]), (7,[3,4,6,7,9]), (8,[2,3,5])]\n",
    "\n",
    "for test in testcases:\n",
    "    print(bestsum(test[0], test[1]))"
   ]
  }
 ],
 "metadata": {
  "kernelspec": {
   "display_name": "base",
   "language": "python",
   "name": "python3"
  },
  "language_info": {
   "codemirror_mode": {
    "name": "ipython",
    "version": 3
   },
   "file_extension": ".py",
   "mimetype": "text/x-python",
   "name": "python",
   "nbconvert_exporter": "python",
   "pygments_lexer": "ipython3",
   "version": "3.9.12"
  }
 },
 "nbformat": 4,
 "nbformat_minor": 2
}
