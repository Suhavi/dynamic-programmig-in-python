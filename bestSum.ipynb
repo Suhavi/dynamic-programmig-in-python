{
 "cells": [
  {
   "cell_type": "markdown",
   "metadata": {},
   "source": [
    "BESTSUM"
   ]
  },
  {
   "cell_type": "code",
   "execution_count": 44,
   "metadata": {},
   "outputs": [],
   "source": [
    "def bestSum(target, numbers):\n",
    "    if target == 0:\n",
    "        return []\n",
    "    if target < 0:\n",
    "        return None\n",
    "    \n",
    "    solution = None\n",
    "    \n",
    "    for num in numbers:\n",
    "        newtarget = target-num\n",
    "        result = bestSum(newtarget, numbers)\n",
    "        if result != None:\n",
    "            l = [x for x in result]\n",
    "            l.append(num)\n",
    "            if solution == None or len(solution) > len(l):\n",
    "                solution = l\n",
    "  \n",
    "    return solution"
   ]
  },
  {
   "cell_type": "code",
   "execution_count": 51,
   "metadata": {},
   "outputs": [
    {
     "name": "stdout",
     "output_type": "stream",
     "text": [
      "[]\n",
      "None\n",
      "[1, 4]\n",
      "[7]\n"
     ]
    }
   ],
   "source": [
    "testcases = [(0,[1,2,3]), (1,[2,3,4]),(5,[4,3,7,8,1]), (7,[3,4,6,7,9])]\n",
    "\n",
    "for test in testcases:\n",
    "    print(bestSum(test[0], test[1]))"
   ]
  },
  {
   "cell_type": "code",
   "execution_count": 48,
   "metadata": {},
   "outputs": [],
   "source": [
    "# memo\n",
    "\n",
    "memo = {}\n",
    "def bestSum_memo(target, numbers):\n",
    "    if target == 0:\n",
    "        return []\n",
    "    if target < 0:\n",
    "        return None\n",
    "    \n",
    "    if target in memo:\n",
    "        return memo[target]\n",
    "    \n",
    "    solution = None\n",
    "    for num in numbers:\n",
    "        remainder = target - num\n",
    "        result = bestSum(remainder, numbers)\n",
    "        if result != None:\n",
    "            l = [x for x in result]\n",
    "            l.append(num)\n",
    "            if solution == None or len(solution) > len(l):\n",
    "                solution = l\n",
    "    \n",
    "    memo[target] = solution\n",
    "    return memo[target]"
   ]
  },
  {
   "cell_type": "code",
   "execution_count": 50,
   "metadata": {},
   "outputs": [
    {
     "name": "stdout",
     "output_type": "stream",
     "text": [
      "[]\n",
      "None\n",
      "[1, 4]\n",
      "[7]\n"
     ]
    }
   ],
   "source": [
    "testcases = [(0,[1,2,3]), (1,[2,3,4]),(5,[4,3,7,8,1]), (7,[3,4,6,7,9])]\n",
    "\n",
    "for test in testcases:\n",
    "    print(bestSum_memo(test[0], test[1]))"
   ]
  }
 ],
 "metadata": {
  "kernelspec": {
   "display_name": "base",
   "language": "python",
   "name": "python3"
  },
  "language_info": {
   "codemirror_mode": {
    "name": "ipython",
    "version": 3
   },
   "file_extension": ".py",
   "mimetype": "text/x-python",
   "name": "python",
   "nbconvert_exporter": "python",
   "pygments_lexer": "ipython3",
   "version": "3.9.12"
  }
 },
 "nbformat": 4,
 "nbformat_minor": 2
}
