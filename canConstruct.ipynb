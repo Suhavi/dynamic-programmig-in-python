{
 "cells": [
  {
   "cell_type": "markdown",
   "metadata": {},
   "source": [
    "CAN CONSTRUCT"
   ]
  },
  {
   "cell_type": "code",
   "execution_count": 36,
   "metadata": {},
   "outputs": [],
   "source": [
    "# recursive\n",
    "def canConstruct(target, wordbank):\n",
    "    if target == \"\":\n",
    "        return True\n",
    "    for word in wordbank:\n",
    "        if word == target[0:len(word)]:\n",
    "            if canConstruct(target[len(word):], wordbank) == True:\n",
    "                return True\n",
    "    \n",
    "    return False"
   ]
  },
  {
   "cell_type": "code",
   "execution_count": 37,
   "metadata": {},
   "outputs": [
    {
     "name": "stdout",
     "output_type": "stream",
     "text": [
      "True\n",
      "False\n",
      "True\n",
      "True\n"
     ]
    }
   ],
   "source": [
    "testcases = [(\"\",[\"a\",\"b\",\"sc\"]), (\"suhavi\",[\"su\",\"suh\",\"vi\"]), (\"dynamic\",[\"dyn\",\"a\",\"mic\"]), (\"abcdef\", [\"ab\",\"abc\",\"cd\",\"def\", \"abcd\"]) ]\n",
    "\n",
    "for test in testcases:\n",
    "    print(canConstruct(test[0], test[1]))"
   ]
  },
  {
   "cell_type": "code",
   "execution_count": 39,
   "metadata": {},
   "outputs": [],
   "source": [
    "# memoized\n",
    "\n",
    "memo = {}\n",
    "def canConstruct_memo(target, wordbank):\n",
    "    if target == \"\":\n",
    "        return True\n",
    "    for word in wordbank:\n",
    "        if word == target[0:len(word)]:\n",
    "            if canConstruct(target[len(word):], wordbank):\n",
    "                memo[target] = True\n",
    "                return True\n",
    "    if target not in memo:\n",
    "        return False\n"
   ]
  },
  {
   "cell_type": "code",
   "execution_count": 40,
   "metadata": {},
   "outputs": [
    {
     "name": "stdout",
     "output_type": "stream",
     "text": [
      "True\n",
      "False\n",
      "True\n",
      "True\n"
     ]
    }
   ],
   "source": [
    "testcases = [(\"\",[\"a\",\"b\",\"sc\"]), (\"suhavi\",[\"su\",\"suh\",\"vi\"]), (\"dynamic\",[\"dyn\",\"a\",\"mic\"]), (\"abcdef\", [\"ab\",\"abc\",\"cd\",\"def\", \"abcd\"]) ]\n",
    "\n",
    "for test in testcases:\n",
    "    print(canConstruct_memo(test[0], test[1]))"
   ]
  },
  {
   "cell_type": "markdown",
   "metadata": {},
   "source": [
    "TABULATION"
   ]
  },
  {
   "cell_type": "code",
   "execution_count": 29,
   "metadata": {},
   "outputs": [],
   "source": [
    "def canconstruct_tab(targetword, subs):\n",
    "    table = [False]*(len(targetword)+1)  # the indexsum for targetword ie. table[index] = t/f for targetword[:index]\n",
    "    table[0] = True     #empty string always true\n",
    "\n",
    "    for i in range(len(targetword)+1):\n",
    "        if table[i] == True:   # targetword[:i] == possible\n",
    "            for sub in subs:\n",
    "                newword = targetword[:i]+sub\n",
    "                if newword == targetword[:len(newword)]:\n",
    "                    table[len(newword)]=True\n",
    "\n",
    "    return table[len(targetword)] "
   ]
  },
  {
   "cell_type": "code",
   "execution_count": 30,
   "metadata": {},
   "outputs": [],
   "source": [
    "# alternate solutio  - based on video\n",
    "def canconstruct_tab2(targetword, subs):\n",
    "    table = [False]*(len(targetword)+1)  # the indexsum for targetword ie. table[index] = t/f for targetword[:index]\n",
    "    table[0] = True     #empty string always true\n",
    "\n",
    "    for i in range(len(targetword)+1):\n",
    "        if table[i] == True:   # targetword[:i] == possible\n",
    "            for sub in subs:\n",
    "                # newword = targetword[:i]+sub\n",
    "                if sub == targetword[i:i+len(sub)]:\n",
    "                    table[i+len(sub)]=True\n",
    "\n",
    "    return table[len(targetword)] "
   ]
  },
  {
   "cell_type": "code",
   "execution_count": 31,
   "metadata": {},
   "outputs": [
    {
     "name": "stdout",
     "output_type": "stream",
     "text": [
      "True\n",
      "False\n",
      "True\n",
      "True\n",
      "True\n"
     ]
    }
   ],
   "source": [
    "testcases = [(\"\",[\"a\",\"b\",\"sc\"]), (\"suhavi\",[\"su\",\"suh\",\"vi\"]), (\"dynamic\",[\"dyn\",\"a\",\"mic\"]), (\"abcdef\", [\"ab\",\"abc\",\"cd\",\"def\", \"abcd\"]), (\"abcdef\",[\"ab\",\"abc\",\"cd\",\"def\",\"abcd\"])]\n",
    "\n",
    "for test in testcases:\n",
    "    print(canconstruct_tab(test[0], test[1]))"
   ]
  }
 ],
 "metadata": {
  "kernelspec": {
   "display_name": "base",
   "language": "python",
   "name": "python3"
  },
  "language_info": {
   "codemirror_mode": {
    "name": "ipython",
    "version": 3
   },
   "file_extension": ".py",
   "mimetype": "text/x-python",
   "name": "python",
   "nbconvert_exporter": "python",
   "pygments_lexer": "ipython3",
   "version": "3.9.12"
  }
 },
 "nbformat": 4,
 "nbformat_minor": 2
}
