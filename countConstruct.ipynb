{
 "cells": [
  {
   "cell_type": "markdown",
   "metadata": {},
   "source": [
    "COUNTCONSTRUCT"
   ]
  },
  {
   "cell_type": "code",
   "execution_count": 21,
   "metadata": {},
   "outputs": [],
   "source": [
    "def countConstruct(target, wordbank):\n",
    "    if target == \"\":\n",
    "        return 1\n",
    "\n",
    "    total = 0\n",
    "    for word in wordbank:\n",
    "        if word == target[0:len(word)]:\n",
    "            numways = countConstruct(target[len(word):], wordbank)\n",
    "            total = total + numways\n",
    "\n",
    "    return total"
   ]
  },
  {
   "cell_type": "code",
   "execution_count": 30,
   "metadata": {},
   "outputs": [
    {
     "name": "stdout",
     "output_type": "stream",
     "text": [
      "1\n",
      "2\n",
      "1\n",
      "1\n",
      "0\n"
     ]
    }
   ],
   "source": [
    "testcases = [(\"\",[\"a\",\"b\",\"sc\"]), (\"suhavi\",[\"su\",\"suh\",\"vi\", \"a\", \"avi\"]), (\"dynamic\",[\"dyn\",\"a\",\"mic\"]), (\"abcdef\", [\"ab\",\"abc\",\"cd\",\"def\", \"abcd\"]),(\"aaaaaaaaaaaaaah\", [\"a\",\"aa\",\"aaa\",\"aaa\", \"aaaa\"]) ]\n",
    "# testcases = [(\"suhavi\",[\"su\",\"suh\",\"vi\", \"a\", \"avi\"])]\n",
    "for test in testcases:\n",
    "    print(countConstruct(test[0], test[1]))"
   ]
  },
  {
   "cell_type": "code",
   "execution_count": 27,
   "metadata": {},
   "outputs": [],
   "source": [
    "memo = {}\n",
    "def countconstruct_memo(target,wordbank):\n",
    "    if target in memo:\n",
    "        return memo[target]\n",
    "    if target == \"\":\n",
    "        return 1\n",
    "    \n",
    "    total = 0\n",
    "    for word in wordbank:\n",
    "        if word == target[0:len(word)]:\n",
    "            numofways = countconstruct_memo(target[len(word):], wordbank)\n",
    "            total = total + numofways\n",
    "    \n",
    "    memo[target] = total\n",
    "    return memo[target]"
   ]
  },
  {
   "cell_type": "code",
   "execution_count": 29,
   "metadata": {},
   "outputs": [
    {
     "name": "stdout",
     "output_type": "stream",
     "text": [
      "1\n",
      "2\n",
      "1\n",
      "1\n",
      "0\n"
     ]
    }
   ],
   "source": [
    "testcases = [(\"\",[\"a\",\"b\",\"sc\"]), (\"suhavi\",[\"su\",\"suh\",\"vi\", \"a\", \"avi\"]), (\"dynamic\",[\"dyn\",\"a\",\"mic\"]), (\"abcdef\", [\"ab\",\"abc\",\"cd\",\"def\", \"abcd\"]), (\"aaaaaaaaaaaaaah\", [\"a\",\"aa\",\"aaa\",\"aaa\", \"aaaa\"]) ]\n",
    "# testcases = [(\"suhavi\",[\"su\",\"suh\",\"vi\", \"a\", \"avi\"])]\n",
    "for test in testcases:\n",
    "    print(countconstruct_memo(test[0], test[1]))"
   ]
  },
  {
   "cell_type": "markdown",
   "metadata": {},
   "source": [
    "TABULATION"
   ]
  },
  {
   "cell_type": "code",
   "execution_count": 9,
   "metadata": {},
   "outputs": [],
   "source": [
    "def countconstruct_tab(target, wordbank):\n",
    "    table = [0]*(len(target)+1)\n",
    "    table[0] = 1\n",
    "\n",
    "    for i in range(len(target)+1):\n",
    "        if table[i] > 0:\n",
    "            for word in wordbank:\n",
    "                newword = target[:i] + word\n",
    "                if newword == target[:len(newword)]:\n",
    "                    table[len(newword)] += table[i]  # the num of ways o make the previous one get added here and since we iterate each element once, no dupication there\n",
    "\n",
    "    return table[len(target)]"
   ]
  },
  {
   "cell_type": "code",
   "execution_count": 10,
   "metadata": {},
   "outputs": [
    {
     "name": "stdout",
     "output_type": "stream",
     "text": [
      "1\n",
      "2\n",
      "1\n",
      "1\n",
      "0\n"
     ]
    }
   ],
   "source": [
    "testcases = [(\"\",[\"a\",\"b\",\"sc\"]), (\"suhavi\",[\"su\",\"suh\",\"vi\", \"a\", \"avi\"]), (\"dynamic\",[\"dyn\",\"a\",\"mic\"]), (\"abcdef\", [\"ab\",\"abc\",\"cd\",\"def\", \"abcd\"]), (\"aaaaaaaaaaaaaah\", [\"a\",\"aa\",\"aaa\",\"aaa\", \"aaaa\"]) ]\n",
    "# testcases = [(\"suhavi\",[\"su\",\"suh\",\"vi\", \"a\", \"avi\"])]\n",
    "for test in testcases:\n",
    "    print(countconstruct_tab(test[0], test[1]))"
   ]
  }
 ],
 "metadata": {
  "kernelspec": {
   "display_name": "base",
   "language": "python",
   "name": "python3"
  },
  "language_info": {
   "codemirror_mode": {
    "name": "ipython",
    "version": 3
   },
   "file_extension": ".py",
   "mimetype": "text/x-python",
   "name": "python",
   "nbconvert_exporter": "python",
   "pygments_lexer": "ipython3",
   "version": "3.9.12"
  }
 },
 "nbformat": 4,
 "nbformat_minor": 2
}
